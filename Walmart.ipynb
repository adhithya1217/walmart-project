{
  "cells": [
    {
      "cell_type": "markdown",
      "metadata": {
        "id": "sN6ncq6cxuJO"
      },
      "source": [
        "# 🧪 Walmart Fraud Detection System - Prototype\n",
        "This notebook demonstrates how to detect fraudulent transactions using machine learning (Random Forest/XGBoost) on a simulated retail dataset."
      ],
      "id": "sN6ncq6cxuJO"
    },
    {
      "cell_type": "code",
      "execution_count": null,
      "metadata": {
        "id": "seeabiN7xuJS"
      },
      "outputs": [],
      "source": [
        "# Step 1: Import libraries\n",
        "import pandas as pd\n",
        "import numpy as np\n",
        "from sklearn.ensemble import RandomForestClassifier\n",
        "from sklearn.model_selection import train_test_split\n",
        "from sklearn.metrics import classification_report, confusion_matrix, roc_auc_score\n",
        "from sklearn.preprocessing import LabelEncoder\n",
        "from imblearn.over_sampling import SMOTE"
      ],
      "id": "seeabiN7xuJS"
    },
    {
      "cell_type": "code",
      "execution_count": null,
      "metadata": {
        "id": "-lMRmYbHxuJU"
      },
      "outputs": [],
      "source": [
        "# Step 2: Create simulated dataset\n",
        "np.random.seed(42)\n",
        "n_samples = 10000\n",
        "data = pd.DataFrame({\n",
        "    'TransactionID': np.arange(n_samples),\n",
        "    'UserID': np.random.randint(1000, 2000, size=n_samples),\n",
        "    'Amount': np.random.exponential(scale=100, size=n_samples),\n",
        "    'DeviceID': np.random.choice(['mobile', 'desktop', 'tablet'], size=n_samples),\n",
        "    'ReturnCount': np.random.poisson(1, size=n_samples),\n",
        "    'CouponUsed': np.random.randint(0, 2, size=n_samples),\n",
        "    'IsFraud': np.random.choice([0, 1], size=n_samples, p=[0.98, 0.02])\n",
        "})"
      ],
      "id": "-lMRmYbHxuJU"
    },
    {
      "cell_type": "code",
      "execution_count": null,
      "metadata": {
        "id": "UKLojWsixuJV"
      },
      "outputs": [],
      "source": [
        "# Step 3: Preprocessing\n",
        "le = LabelEncoder()\n",
        "data['DeviceID'] = le.fit_transform(data['DeviceID'])\n",
        "X = data.drop(['TransactionID', 'UserID', 'IsFraud'], axis=1)\n",
        "y = data['IsFraud']\n",
        "\n",
        "# Balance the dataset using SMOTE\n",
        "smote = SMOTE(random_state=42)\n",
        "X_res, y_res = smote.fit_resample(X, y)"
      ],
      "id": "UKLojWsixuJV"
    },
    {
      "cell_type": "code",
      "execution_count": null,
      "metadata": {
        "id": "3Rj4r8rfxuJX"
      },
      "outputs": [],
      "source": [
        "# Step 4: Train/Test Split\n",
        "X_train, X_test, y_train, y_test = train_test_split(X_res, y_res, test_size=0.3, random_state=42)"
      ],
      "id": "3Rj4r8rfxuJX"
    },
    {
      "cell_type": "code",
      "execution_count": null,
      "metadata": {
        "colab": {
          "base_uri": "https://localhost:8080/",
          "height": 80
        },
        "id": "-ubhaIPgxuJY",
        "outputId": "3afb6fab-9d57-4e8c-9f90-6be7f3d53dbd"
      },
      "outputs": [
        {
          "output_type": "execute_result",
          "data": {
            "text/plain": [
              "RandomForestClassifier(random_state=42)"
            ],
            "text/html": [
              "<style>#sk-container-id-1 {\n",
              "  /* Definition of color scheme common for light and dark mode */\n",
              "  --sklearn-color-text: #000;\n",
              "  --sklearn-color-text-muted: #666;\n",
              "  --sklearn-color-line: gray;\n",
              "  /* Definition of color scheme for unfitted estimators */\n",
              "  --sklearn-color-unfitted-level-0: #fff5e6;\n",
              "  --sklearn-color-unfitted-level-1: #f6e4d2;\n",
              "  --sklearn-color-unfitted-level-2: #ffe0b3;\n",
              "  --sklearn-color-unfitted-level-3: chocolate;\n",
              "  /* Definition of color scheme for fitted estimators */\n",
              "  --sklearn-color-fitted-level-0: #f0f8ff;\n",
              "  --sklearn-color-fitted-level-1: #d4ebff;\n",
              "  --sklearn-color-fitted-level-2: #b3dbfd;\n",
              "  --sklearn-color-fitted-level-3: cornflowerblue;\n",
              "\n",
              "  /* Specific color for light theme */\n",
              "  --sklearn-color-text-on-default-background: var(--sg-text-color, var(--theme-code-foreground, var(--jp-content-font-color1, black)));\n",
              "  --sklearn-color-background: var(--sg-background-color, var(--theme-background, var(--jp-layout-color0, white)));\n",
              "  --sklearn-color-border-box: var(--sg-text-color, var(--theme-code-foreground, var(--jp-content-font-color1, black)));\n",
              "  --sklearn-color-icon: #696969;\n",
              "\n",
              "  @media (prefers-color-scheme: dark) {\n",
              "    /* Redefinition of color scheme for dark theme */\n",
              "    --sklearn-color-text-on-default-background: var(--sg-text-color, var(--theme-code-foreground, var(--jp-content-font-color1, white)));\n",
              "    --sklearn-color-background: var(--sg-background-color, var(--theme-background, var(--jp-layout-color0, #111)));\n",
              "    --sklearn-color-border-box: var(--sg-text-color, var(--theme-code-foreground, var(--jp-content-font-color1, white)));\n",
              "    --sklearn-color-icon: #878787;\n",
              "  }\n",
              "}\n",
              "\n",
              "#sk-container-id-1 {\n",
              "  color: var(--sklearn-color-text);\n",
              "}\n",
              "\n",
              "#sk-container-id-1 pre {\n",
              "  padding: 0;\n",
              "}\n",
              "\n",
              "#sk-container-id-1 input.sk-hidden--visually {\n",
              "  border: 0;\n",
              "  clip: rect(1px 1px 1px 1px);\n",
              "  clip: rect(1px, 1px, 1px, 1px);\n",
              "  height: 1px;\n",
              "  margin: -1px;\n",
              "  overflow: hidden;\n",
              "  padding: 0;\n",
              "  position: absolute;\n",
              "  width: 1px;\n",
              "}\n",
              "\n",
              "#sk-container-id-1 div.sk-dashed-wrapped {\n",
              "  border: 1px dashed var(--sklearn-color-line);\n",
              "  margin: 0 0.4em 0.5em 0.4em;\n",
              "  box-sizing: border-box;\n",
              "  padding-bottom: 0.4em;\n",
              "  background-color: var(--sklearn-color-background);\n",
              "}\n",
              "\n",
              "#sk-container-id-1 div.sk-container {\n",
              "  /* jupyter's `normalize.less` sets `[hidden] { display: none; }`\n",
              "     but bootstrap.min.css set `[hidden] { display: none !important; }`\n",
              "     so we also need the `!important` here to be able to override the\n",
              "     default hidden behavior on the sphinx rendered scikit-learn.org.\n",
              "     See: https://github.com/scikit-learn/scikit-learn/issues/21755 */\n",
              "  display: inline-block !important;\n",
              "  position: relative;\n",
              "}\n",
              "\n",
              "#sk-container-id-1 div.sk-text-repr-fallback {\n",
              "  display: none;\n",
              "}\n",
              "\n",
              "div.sk-parallel-item,\n",
              "div.sk-serial,\n",
              "div.sk-item {\n",
              "  /* draw centered vertical line to link estimators */\n",
              "  background-image: linear-gradient(var(--sklearn-color-text-on-default-background), var(--sklearn-color-text-on-default-background));\n",
              "  background-size: 2px 100%;\n",
              "  background-repeat: no-repeat;\n",
              "  background-position: center center;\n",
              "}\n",
              "\n",
              "/* Parallel-specific style estimator block */\n",
              "\n",
              "#sk-container-id-1 div.sk-parallel-item::after {\n",
              "  content: \"\";\n",
              "  width: 100%;\n",
              "  border-bottom: 2px solid var(--sklearn-color-text-on-default-background);\n",
              "  flex-grow: 1;\n",
              "}\n",
              "\n",
              "#sk-container-id-1 div.sk-parallel {\n",
              "  display: flex;\n",
              "  align-items: stretch;\n",
              "  justify-content: center;\n",
              "  background-color: var(--sklearn-color-background);\n",
              "  position: relative;\n",
              "}\n",
              "\n",
              "#sk-container-id-1 div.sk-parallel-item {\n",
              "  display: flex;\n",
              "  flex-direction: column;\n",
              "}\n",
              "\n",
              "#sk-container-id-1 div.sk-parallel-item:first-child::after {\n",
              "  align-self: flex-end;\n",
              "  width: 50%;\n",
              "}\n",
              "\n",
              "#sk-container-id-1 div.sk-parallel-item:last-child::after {\n",
              "  align-self: flex-start;\n",
              "  width: 50%;\n",
              "}\n",
              "\n",
              "#sk-container-id-1 div.sk-parallel-item:only-child::after {\n",
              "  width: 0;\n",
              "}\n",
              "\n",
              "/* Serial-specific style estimator block */\n",
              "\n",
              "#sk-container-id-1 div.sk-serial {\n",
              "  display: flex;\n",
              "  flex-direction: column;\n",
              "  align-items: center;\n",
              "  background-color: var(--sklearn-color-background);\n",
              "  padding-right: 1em;\n",
              "  padding-left: 1em;\n",
              "}\n",
              "\n",
              "\n",
              "/* Toggleable style: style used for estimator/Pipeline/ColumnTransformer box that is\n",
              "clickable and can be expanded/collapsed.\n",
              "- Pipeline and ColumnTransformer use this feature and define the default style\n",
              "- Estimators will overwrite some part of the style using the `sk-estimator` class\n",
              "*/\n",
              "\n",
              "/* Pipeline and ColumnTransformer style (default) */\n",
              "\n",
              "#sk-container-id-1 div.sk-toggleable {\n",
              "  /* Default theme specific background. It is overwritten whether we have a\n",
              "  specific estimator or a Pipeline/ColumnTransformer */\n",
              "  background-color: var(--sklearn-color-background);\n",
              "}\n",
              "\n",
              "/* Toggleable label */\n",
              "#sk-container-id-1 label.sk-toggleable__label {\n",
              "  cursor: pointer;\n",
              "  display: flex;\n",
              "  width: 100%;\n",
              "  margin-bottom: 0;\n",
              "  padding: 0.5em;\n",
              "  box-sizing: border-box;\n",
              "  text-align: center;\n",
              "  align-items: start;\n",
              "  justify-content: space-between;\n",
              "  gap: 0.5em;\n",
              "}\n",
              "\n",
              "#sk-container-id-1 label.sk-toggleable__label .caption {\n",
              "  font-size: 0.6rem;\n",
              "  font-weight: lighter;\n",
              "  color: var(--sklearn-color-text-muted);\n",
              "}\n",
              "\n",
              "#sk-container-id-1 label.sk-toggleable__label-arrow:before {\n",
              "  /* Arrow on the left of the label */\n",
              "  content: \"▸\";\n",
              "  float: left;\n",
              "  margin-right: 0.25em;\n",
              "  color: var(--sklearn-color-icon);\n",
              "}\n",
              "\n",
              "#sk-container-id-1 label.sk-toggleable__label-arrow:hover:before {\n",
              "  color: var(--sklearn-color-text);\n",
              "}\n",
              "\n",
              "/* Toggleable content - dropdown */\n",
              "\n",
              "#sk-container-id-1 div.sk-toggleable__content {\n",
              "  max-height: 0;\n",
              "  max-width: 0;\n",
              "  overflow: hidden;\n",
              "  text-align: left;\n",
              "  /* unfitted */\n",
              "  background-color: var(--sklearn-color-unfitted-level-0);\n",
              "}\n",
              "\n",
              "#sk-container-id-1 div.sk-toggleable__content.fitted {\n",
              "  /* fitted */\n",
              "  background-color: var(--sklearn-color-fitted-level-0);\n",
              "}\n",
              "\n",
              "#sk-container-id-1 div.sk-toggleable__content pre {\n",
              "  margin: 0.2em;\n",
              "  border-radius: 0.25em;\n",
              "  color: var(--sklearn-color-text);\n",
              "  /* unfitted */\n",
              "  background-color: var(--sklearn-color-unfitted-level-0);\n",
              "}\n",
              "\n",
              "#sk-container-id-1 div.sk-toggleable__content.fitted pre {\n",
              "  /* unfitted */\n",
              "  background-color: var(--sklearn-color-fitted-level-0);\n",
              "}\n",
              "\n",
              "#sk-container-id-1 input.sk-toggleable__control:checked~div.sk-toggleable__content {\n",
              "  /* Expand drop-down */\n",
              "  max-height: 200px;\n",
              "  max-width: 100%;\n",
              "  overflow: auto;\n",
              "}\n",
              "\n",
              "#sk-container-id-1 input.sk-toggleable__control:checked~label.sk-toggleable__label-arrow:before {\n",
              "  content: \"▾\";\n",
              "}\n",
              "\n",
              "/* Pipeline/ColumnTransformer-specific style */\n",
              "\n",
              "#sk-container-id-1 div.sk-label input.sk-toggleable__control:checked~label.sk-toggleable__label {\n",
              "  color: var(--sklearn-color-text);\n",
              "  background-color: var(--sklearn-color-unfitted-level-2);\n",
              "}\n",
              "\n",
              "#sk-container-id-1 div.sk-label.fitted input.sk-toggleable__control:checked~label.sk-toggleable__label {\n",
              "  background-color: var(--sklearn-color-fitted-level-2);\n",
              "}\n",
              "\n",
              "/* Estimator-specific style */\n",
              "\n",
              "/* Colorize estimator box */\n",
              "#sk-container-id-1 div.sk-estimator input.sk-toggleable__control:checked~label.sk-toggleable__label {\n",
              "  /* unfitted */\n",
              "  background-color: var(--sklearn-color-unfitted-level-2);\n",
              "}\n",
              "\n",
              "#sk-container-id-1 div.sk-estimator.fitted input.sk-toggleable__control:checked~label.sk-toggleable__label {\n",
              "  /* fitted */\n",
              "  background-color: var(--sklearn-color-fitted-level-2);\n",
              "}\n",
              "\n",
              "#sk-container-id-1 div.sk-label label.sk-toggleable__label,\n",
              "#sk-container-id-1 div.sk-label label {\n",
              "  /* The background is the default theme color */\n",
              "  color: var(--sklearn-color-text-on-default-background);\n",
              "}\n",
              "\n",
              "/* On hover, darken the color of the background */\n",
              "#sk-container-id-1 div.sk-label:hover label.sk-toggleable__label {\n",
              "  color: var(--sklearn-color-text);\n",
              "  background-color: var(--sklearn-color-unfitted-level-2);\n",
              "}\n",
              "\n",
              "/* Label box, darken color on hover, fitted */\n",
              "#sk-container-id-1 div.sk-label.fitted:hover label.sk-toggleable__label.fitted {\n",
              "  color: var(--sklearn-color-text);\n",
              "  background-color: var(--sklearn-color-fitted-level-2);\n",
              "}\n",
              "\n",
              "/* Estimator label */\n",
              "\n",
              "#sk-container-id-1 div.sk-label label {\n",
              "  font-family: monospace;\n",
              "  font-weight: bold;\n",
              "  display: inline-block;\n",
              "  line-height: 1.2em;\n",
              "}\n",
              "\n",
              "#sk-container-id-1 div.sk-label-container {\n",
              "  text-align: center;\n",
              "}\n",
              "\n",
              "/* Estimator-specific */\n",
              "#sk-container-id-1 div.sk-estimator {\n",
              "  font-family: monospace;\n",
              "  border: 1px dotted var(--sklearn-color-border-box);\n",
              "  border-radius: 0.25em;\n",
              "  box-sizing: border-box;\n",
              "  margin-bottom: 0.5em;\n",
              "  /* unfitted */\n",
              "  background-color: var(--sklearn-color-unfitted-level-0);\n",
              "}\n",
              "\n",
              "#sk-container-id-1 div.sk-estimator.fitted {\n",
              "  /* fitted */\n",
              "  background-color: var(--sklearn-color-fitted-level-0);\n",
              "}\n",
              "\n",
              "/* on hover */\n",
              "#sk-container-id-1 div.sk-estimator:hover {\n",
              "  /* unfitted */\n",
              "  background-color: var(--sklearn-color-unfitted-level-2);\n",
              "}\n",
              "\n",
              "#sk-container-id-1 div.sk-estimator.fitted:hover {\n",
              "  /* fitted */\n",
              "  background-color: var(--sklearn-color-fitted-level-2);\n",
              "}\n",
              "\n",
              "/* Specification for estimator info (e.g. \"i\" and \"?\") */\n",
              "\n",
              "/* Common style for \"i\" and \"?\" */\n",
              "\n",
              ".sk-estimator-doc-link,\n",
              "a:link.sk-estimator-doc-link,\n",
              "a:visited.sk-estimator-doc-link {\n",
              "  float: right;\n",
              "  font-size: smaller;\n",
              "  line-height: 1em;\n",
              "  font-family: monospace;\n",
              "  background-color: var(--sklearn-color-background);\n",
              "  border-radius: 1em;\n",
              "  height: 1em;\n",
              "  width: 1em;\n",
              "  text-decoration: none !important;\n",
              "  margin-left: 0.5em;\n",
              "  text-align: center;\n",
              "  /* unfitted */\n",
              "  border: var(--sklearn-color-unfitted-level-1) 1pt solid;\n",
              "  color: var(--sklearn-color-unfitted-level-1);\n",
              "}\n",
              "\n",
              ".sk-estimator-doc-link.fitted,\n",
              "a:link.sk-estimator-doc-link.fitted,\n",
              "a:visited.sk-estimator-doc-link.fitted {\n",
              "  /* fitted */\n",
              "  border: var(--sklearn-color-fitted-level-1) 1pt solid;\n",
              "  color: var(--sklearn-color-fitted-level-1);\n",
              "}\n",
              "\n",
              "/* On hover */\n",
              "div.sk-estimator:hover .sk-estimator-doc-link:hover,\n",
              ".sk-estimator-doc-link:hover,\n",
              "div.sk-label-container:hover .sk-estimator-doc-link:hover,\n",
              ".sk-estimator-doc-link:hover {\n",
              "  /* unfitted */\n",
              "  background-color: var(--sklearn-color-unfitted-level-3);\n",
              "  color: var(--sklearn-color-background);\n",
              "  text-decoration: none;\n",
              "}\n",
              "\n",
              "div.sk-estimator.fitted:hover .sk-estimator-doc-link.fitted:hover,\n",
              ".sk-estimator-doc-link.fitted:hover,\n",
              "div.sk-label-container:hover .sk-estimator-doc-link.fitted:hover,\n",
              ".sk-estimator-doc-link.fitted:hover {\n",
              "  /* fitted */\n",
              "  background-color: var(--sklearn-color-fitted-level-3);\n",
              "  color: var(--sklearn-color-background);\n",
              "  text-decoration: none;\n",
              "}\n",
              "\n",
              "/* Span, style for the box shown on hovering the info icon */\n",
              ".sk-estimator-doc-link span {\n",
              "  display: none;\n",
              "  z-index: 9999;\n",
              "  position: relative;\n",
              "  font-weight: normal;\n",
              "  right: .2ex;\n",
              "  padding: .5ex;\n",
              "  margin: .5ex;\n",
              "  width: min-content;\n",
              "  min-width: 20ex;\n",
              "  max-width: 50ex;\n",
              "  color: var(--sklearn-color-text);\n",
              "  box-shadow: 2pt 2pt 4pt #999;\n",
              "  /* unfitted */\n",
              "  background: var(--sklearn-color-unfitted-level-0);\n",
              "  border: .5pt solid var(--sklearn-color-unfitted-level-3);\n",
              "}\n",
              "\n",
              ".sk-estimator-doc-link.fitted span {\n",
              "  /* fitted */\n",
              "  background: var(--sklearn-color-fitted-level-0);\n",
              "  border: var(--sklearn-color-fitted-level-3);\n",
              "}\n",
              "\n",
              ".sk-estimator-doc-link:hover span {\n",
              "  display: block;\n",
              "}\n",
              "\n",
              "/* \"?\"-specific style due to the `<a>` HTML tag */\n",
              "\n",
              "#sk-container-id-1 a.estimator_doc_link {\n",
              "  float: right;\n",
              "  font-size: 1rem;\n",
              "  line-height: 1em;\n",
              "  font-family: monospace;\n",
              "  background-color: var(--sklearn-color-background);\n",
              "  border-radius: 1rem;\n",
              "  height: 1rem;\n",
              "  width: 1rem;\n",
              "  text-decoration: none;\n",
              "  /* unfitted */\n",
              "  color: var(--sklearn-color-unfitted-level-1);\n",
              "  border: var(--sklearn-color-unfitted-level-1) 1pt solid;\n",
              "}\n",
              "\n",
              "#sk-container-id-1 a.estimator_doc_link.fitted {\n",
              "  /* fitted */\n",
              "  border: var(--sklearn-color-fitted-level-1) 1pt solid;\n",
              "  color: var(--sklearn-color-fitted-level-1);\n",
              "}\n",
              "\n",
              "/* On hover */\n",
              "#sk-container-id-1 a.estimator_doc_link:hover {\n",
              "  /* unfitted */\n",
              "  background-color: var(--sklearn-color-unfitted-level-3);\n",
              "  color: var(--sklearn-color-background);\n",
              "  text-decoration: none;\n",
              "}\n",
              "\n",
              "#sk-container-id-1 a.estimator_doc_link.fitted:hover {\n",
              "  /* fitted */\n",
              "  background-color: var(--sklearn-color-fitted-level-3);\n",
              "}\n",
              "</style><div id=\"sk-container-id-1\" class=\"sk-top-container\"><div class=\"sk-text-repr-fallback\"><pre>RandomForestClassifier(random_state=42)</pre><b>In a Jupyter environment, please rerun this cell to show the HTML representation or trust the notebook. <br />On GitHub, the HTML representation is unable to render, please try loading this page with nbviewer.org.</b></div><div class=\"sk-container\" hidden><div class=\"sk-item\"><div class=\"sk-estimator fitted sk-toggleable\"><input class=\"sk-toggleable__control sk-hidden--visually\" id=\"sk-estimator-id-1\" type=\"checkbox\" checked><label for=\"sk-estimator-id-1\" class=\"sk-toggleable__label fitted sk-toggleable__label-arrow\"><div><div>RandomForestClassifier</div></div><div><a class=\"sk-estimator-doc-link fitted\" rel=\"noreferrer\" target=\"_blank\" href=\"https://scikit-learn.org/1.6/modules/generated/sklearn.ensemble.RandomForestClassifier.html\">?<span>Documentation for RandomForestClassifier</span></a><span class=\"sk-estimator-doc-link fitted\">i<span>Fitted</span></span></div></label><div class=\"sk-toggleable__content fitted\"><pre>RandomForestClassifier(random_state=42)</pre></div> </div></div></div></div>"
            ]
          },
          "metadata": {},
          "execution_count": 5
        }
      ],
      "source": [
        "# Step 5: Train Random Forest\n",
        "clf = RandomForestClassifier(n_estimators=100, random_state=42)\n",
        "clf.fit(X_train, y_train)"
      ],
      "id": "-ubhaIPgxuJY"
    },
    {
      "cell_type": "code",
      "execution_count": null,
      "metadata": {
        "colab": {
          "base_uri": "https://localhost:8080/"
        },
        "id": "ghQTmEQqxuJY",
        "outputId": "9a590e13-228c-45f5-fe05-ee1436bc7220"
      },
      "outputs": [
        {
          "output_type": "stream",
          "name": "stdout",
          "text": [
            "[[2406  529]\n",
            " [ 420 2523]]\n",
            "              precision    recall  f1-score   support\n",
            "\n",
            "           0       0.85      0.82      0.84      2935\n",
            "           1       0.83      0.86      0.84      2943\n",
            "\n",
            "    accuracy                           0.84      5878\n",
            "   macro avg       0.84      0.84      0.84      5878\n",
            "weighted avg       0.84      0.84      0.84      5878\n",
            "\n",
            "ROC AUC Score: 0.8385249901449519\n"
          ]
        }
      ],
      "source": [
        "# Step 6: Evaluate the model\n",
        "y_pred = clf.predict(X_test)\n",
        "print(confusion_matrix(y_test, y_pred))\n",
        "print(classification_report(y_test, y_pred))\n",
        "print('ROC AUC Score:', roc_auc_score(y_test, y_pred))"
      ],
      "id": "ghQTmEQqxuJY"
    },
    {
      "cell_type": "code",
      "metadata": {
        "id": "c3980f1d"
      },
      "source": [
        "# Step 7: Simulate new data for testing\n",
        "np.random.seed(100)  # Use a different seed for new data\n",
        "n_new_samples = 100\n",
        "new_data = pd.DataFrame({\n",
        "    'TransactionID': np.arange(n_samples, n_samples + n_new_samples),\n",
        "    'UserID': np.random.randint(1000, 2000, size=n_new_samples),\n",
        "    'Amount': np.random.exponential(scale=100, size=n_new_samples),\n",
        "    'DeviceID': np.random.choice(['mobile', 'desktop', 'tablet'], size=n_new_samples),\n",
        "    'ReturnCount': np.random.poisson(1, size=n_new_samples),\n",
        "    'CouponUsed': np.random.randint(0, 2, size=n_new_samples),\n",
        "    'IsFraud': np.random.choice([0, 1], size=n_new_samples, p=[0.95, 0.05]) # Slightly higher fraud rate for simulation\n",
        "})\n",
        "\n",
        "# Preprocess the new data\n",
        "new_data['DeviceID'] = le.transform(new_data['DeviceID'])\n",
        "X_new = new_data.drop(['TransactionID', 'UserID', 'IsFraud'], axis=1)\n",
        "y_new = new_data['IsFraud']"
      ],
      "id": "c3980f1d",
      "execution_count": null,
      "outputs": []
    },
    {
      "cell_type": "code",
      "metadata": {
        "colab": {
          "base_uri": "https://localhost:8080/"
        },
        "id": "d1ee09b3",
        "outputId": "2d850868-4c5f-4045-9fbc-4ec77782c562"
      },
      "source": [
        "# Step 8: Predict on new data\n",
        "y_new_pred = clf.predict(X_new)\n",
        "\n",
        "# Evaluate the model on new data\n",
        "print(\"Evaluation on New Simulated Data:\")\n",
        "print(confusion_matrix(y_new, y_new_pred))\n",
        "print(classification_report(y_new, y_new_pred))\n",
        "print('ROC AUC Score:', roc_auc_score(y_new, y_new_pred))"
      ],
      "id": "d1ee09b3",
      "execution_count": null,
      "outputs": [
        {
          "output_type": "stream",
          "name": "stdout",
          "text": [
            "Evaluation on New Simulated Data:\n",
            "[[72 22]\n",
            " [ 6  0]]\n",
            "              precision    recall  f1-score   support\n",
            "\n",
            "           0       0.92      0.77      0.84        94\n",
            "           1       0.00      0.00      0.00         6\n",
            "\n",
            "    accuracy                           0.72       100\n",
            "   macro avg       0.46      0.38      0.42       100\n",
            "weighted avg       0.87      0.72      0.79       100\n",
            "\n",
            "ROC AUC Score: 0.3829787234042553\n"
          ]
        }
      ]
    },
    {
      "cell_type": "markdown",
      "metadata": {
        "id": "6882175d"
      },
      "source": [
        "# Task\n",
        "Create a Streamlit application that loads the previously trained RandomForestClassifier model and LabelEncoder, allows users to input transaction details (Amount, DeviceID, ReturnCount, CouponUsed), predicts whether the transaction is fraudulent using the loaded model, and displays the prediction result. Provide instructions on how to run the Streamlit application."
      ],
      "id": "6882175d"
    },
    {
      "cell_type": "markdown",
      "metadata": {
        "id": "1d567b79"
      },
      "source": [
        "## Save the trained model and preprocessing objects\n",
        "\n",
        "### Subtask:\n",
        "Save the trained `RandomForestClassifier` model and the `LabelEncoder` object to files so they can be loaded into the Streamlit application.\n"
      ],
      "id": "1d567b79"
    },
    {
      "cell_type": "markdown",
      "metadata": {
        "id": "3c080f79"
      },
      "source": [
        "**Reasoning**:\n",
        "Save the trained model and the label encoder to files using joblib.\n",
        "\n"
      ],
      "id": "3c080f79"
    },
    {
      "cell_type": "code",
      "metadata": {
        "colab": {
          "base_uri": "https://localhost:8080/"
        },
        "id": "4aebfa90",
        "outputId": "c987d66e-7470-4300-e76f-d94ea1626821"
      },
      "source": [
        "import joblib\n",
        "\n",
        "# Save the trained model\n",
        "joblib.dump(clf, 'random_forest_model.joblib')\n",
        "\n",
        "# Save the fitted LabelEncoder\n",
        "joblib.dump(le, 'label_encoder.joblib')"
      ],
      "id": "4aebfa90",
      "execution_count": null,
      "outputs": [
        {
          "output_type": "execute_result",
          "data": {
            "text/plain": [
              "['label_encoder.joblib']"
            ]
          },
          "metadata": {},
          "execution_count": 26
        }
      ]
    },
    {
      "cell_type": "markdown",
      "metadata": {
        "id": "9542860d"
      },
      "source": [
        "## Create a streamlit application file\n",
        "\n",
        "### Subtask:\n",
        "Create a Python file (e.g., `app.py`) that will contain the Streamlit code.\n"
      ],
      "id": "9542860d"
    },
    {
      "cell_type": "markdown",
      "metadata": {
        "id": "e23097c3"
      },
      "source": [
        "**Reasoning**:\n",
        "Create an empty file named `app.py` in the current working directory.\n",
        "\n"
      ],
      "id": "e23097c3"
    },
    {
      "cell_type": "code",
      "metadata": {
        "id": "036d4f49"
      },
      "source": [
        "# This is an empty file for the Streamlit application.\n",
        "# The content will be added in the next step."
      ],
      "id": "036d4f49",
      "execution_count": null,
      "outputs": []
    },
    {
      "cell_type": "markdown",
      "metadata": {
        "id": "54d3efb6"
      },
      "source": [
        "## Load the model and preprocessing objects in the streamlit app\n",
        "\n",
        "### Subtask:\n",
        "Load the saved model and `LabelEncoder` into the Streamlit application.\n"
      ],
      "id": "54d3efb6"
    },
    {
      "cell_type": "markdown",
      "metadata": {
        "id": "26793a0c"
      },
      "source": [
        "**Reasoning**:\n",
        "Load the saved model and LabelEncoder into the Streamlit application using joblib.\n",
        "\n"
      ],
      "id": "26793a0c"
    },
    {
      "cell_type": "code",
      "metadata": {
        "colab": {
          "base_uri": "https://localhost:8080/"
        },
        "id": "372e6751",
        "outputId": "02b753eb-9021-4f55-ef8c-b52d8443b94f"
      },
      "source": [
        "import streamlit as st\n",
        "import joblib\n",
        "\n",
        "# Load the trained model\n",
        "clf = joblib.load('random_forest_model.joblib')\n",
        "\n",
        "# Load the fitted LabelEncoder\n",
        "le = joblib.load('label_encoder.joblib')\n",
        "\n",
        "st.title('Walmart Fraud Detection System')"
      ],
      "id": "372e6751",
      "execution_count": null,
      "outputs": [
        {
          "output_type": "stream",
          "name": "stderr",
          "text": [
            "2025-06-16 08:27:00.193 Thread 'MainThread': missing ScriptRunContext! This warning can be ignored when running in bare mode.\n",
            "2025-06-16 08:27:00.196 Thread 'MainThread': missing ScriptRunContext! This warning can be ignored when running in bare mode.\n"
          ]
        },
        {
          "output_type": "execute_result",
          "data": {
            "text/plain": [
              "DeltaGenerator()"
            ]
          },
          "metadata": {},
          "execution_count": 27
        }
      ]
    },
    {
      "cell_type": "markdown",
      "metadata": {
        "id": "e4ac67ab"
      },
      "source": [
        "**Reasoning**:\n",
        "The previous command failed because the `streamlit` library is not installed. Install `streamlit` using pip.\n",
        "\n"
      ],
      "id": "e4ac67ab"
    },
    {
      "cell_type": "code",
      "metadata": {
        "colab": {
          "base_uri": "https://localhost:8080/"
        },
        "id": "cjuj54LLyhfO",
        "outputId": "d79dd61c-e266-46aa-a010-b8505d72a1cf"
      },
      "source": [
        "!pip install streamlit joblib"
      ],
      "id": "cjuj54LLyhfO",
      "execution_count": null,
      "outputs": [
        {
          "output_type": "stream",
          "name": "stdout",
          "text": [
            "Collecting streamlit\n",
            "  Downloading streamlit-1.45.1-py3-none-any.whl.metadata (8.9 kB)\n",
            "Requirement already satisfied: joblib in /usr/local/lib/python3.11/dist-packages (1.5.1)\n",
            "Requirement already satisfied: altair<6,>=4.0 in /usr/local/lib/python3.11/dist-packages (from streamlit) (5.5.0)\n",
            "Requirement already satisfied: blinker<2,>=1.5.0 in /usr/local/lib/python3.11/dist-packages (from streamlit) (1.9.0)\n",
            "Requirement already satisfied: cachetools<6,>=4.0 in /usr/local/lib/python3.11/dist-packages (from streamlit) (5.5.2)\n",
            "Requirement already satisfied: click<9,>=7.0 in /usr/local/lib/python3.11/dist-packages (from streamlit) (8.2.1)\n",
            "Requirement already satisfied: numpy<3,>=1.23 in /usr/local/lib/python3.11/dist-packages (from streamlit) (2.0.2)\n",
            "Requirement already satisfied: packaging<25,>=20 in /usr/local/lib/python3.11/dist-packages (from streamlit) (24.2)\n",
            "Requirement already satisfied: pandas<3,>=1.4.0 in /usr/local/lib/python3.11/dist-packages (from streamlit) (2.2.2)\n",
            "Requirement already satisfied: pillow<12,>=7.1.0 in /usr/local/lib/python3.11/dist-packages (from streamlit) (11.2.1)\n",
            "Requirement already satisfied: protobuf<7,>=3.20 in /usr/local/lib/python3.11/dist-packages (from streamlit) (5.29.5)\n",
            "Requirement already satisfied: pyarrow>=7.0 in /usr/local/lib/python3.11/dist-packages (from streamlit) (18.1.0)\n",
            "Requirement already satisfied: requests<3,>=2.27 in /usr/local/lib/python3.11/dist-packages (from streamlit) (2.32.3)\n",
            "Requirement already satisfied: tenacity<10,>=8.1.0 in /usr/local/lib/python3.11/dist-packages (from streamlit) (9.1.2)\n",
            "Requirement already satisfied: toml<2,>=0.10.1 in /usr/local/lib/python3.11/dist-packages (from streamlit) (0.10.2)\n",
            "Requirement already satisfied: typing-extensions<5,>=4.4.0 in /usr/local/lib/python3.11/dist-packages (from streamlit) (4.14.0)\n",
            "Collecting watchdog<7,>=2.1.5 (from streamlit)\n",
            "  Downloading watchdog-6.0.0-py3-none-manylinux2014_x86_64.whl.metadata (44 kB)\n",
            "\u001b[2K     \u001b[90m━━━━━━━━━━━━━━━━━━━━━━━━━━━━━━━━━━━━━━━━\u001b[0m \u001b[32m44.3/44.3 kB\u001b[0m \u001b[31m1.6 MB/s\u001b[0m eta \u001b[36m0:00:00\u001b[0m\n",
            "\u001b[?25hRequirement already satisfied: gitpython!=3.1.19,<4,>=3.0.7 in /usr/local/lib/python3.11/dist-packages (from streamlit) (3.1.44)\n",
            "Collecting pydeck<1,>=0.8.0b4 (from streamlit)\n",
            "  Downloading pydeck-0.9.1-py2.py3-none-any.whl.metadata (4.1 kB)\n",
            "Requirement already satisfied: tornado<7,>=6.0.3 in /usr/local/lib/python3.11/dist-packages (from streamlit) (6.4.2)\n",
            "Requirement already satisfied: jinja2 in /usr/local/lib/python3.11/dist-packages (from altair<6,>=4.0->streamlit) (3.1.6)\n",
            "Requirement already satisfied: jsonschema>=3.0 in /usr/local/lib/python3.11/dist-packages (from altair<6,>=4.0->streamlit) (4.24.0)\n",
            "Requirement already satisfied: narwhals>=1.14.2 in /usr/local/lib/python3.11/dist-packages (from altair<6,>=4.0->streamlit) (1.41.0)\n",
            "Requirement already satisfied: gitdb<5,>=4.0.1 in /usr/local/lib/python3.11/dist-packages (from gitpython!=3.1.19,<4,>=3.0.7->streamlit) (4.0.12)\n",
            "Requirement already satisfied: python-dateutil>=2.8.2 in /usr/local/lib/python3.11/dist-packages (from pandas<3,>=1.4.0->streamlit) (2.9.0.post0)\n",
            "Requirement already satisfied: pytz>=2020.1 in /usr/local/lib/python3.11/dist-packages (from pandas<3,>=1.4.0->streamlit) (2025.2)\n",
            "Requirement already satisfied: tzdata>=2022.7 in /usr/local/lib/python3.11/dist-packages (from pandas<3,>=1.4.0->streamlit) (2025.2)\n",
            "Requirement already satisfied: charset-normalizer<4,>=2 in /usr/local/lib/python3.11/dist-packages (from requests<3,>=2.27->streamlit) (3.4.2)\n",
            "Requirement already satisfied: idna<4,>=2.5 in /usr/local/lib/python3.11/dist-packages (from requests<3,>=2.27->streamlit) (3.10)\n",
            "Requirement already satisfied: urllib3<3,>=1.21.1 in /usr/local/lib/python3.11/dist-packages (from requests<3,>=2.27->streamlit) (2.4.0)\n",
            "Requirement already satisfied: certifi>=2017.4.17 in /usr/local/lib/python3.11/dist-packages (from requests<3,>=2.27->streamlit) (2025.4.26)\n",
            "Requirement already satisfied: smmap<6,>=3.0.1 in /usr/local/lib/python3.11/dist-packages (from gitdb<5,>=4.0.1->gitpython!=3.1.19,<4,>=3.0.7->streamlit) (5.0.2)\n",
            "Requirement already satisfied: MarkupSafe>=2.0 in /usr/local/lib/python3.11/dist-packages (from jinja2->altair<6,>=4.0->streamlit) (3.0.2)\n",
            "Requirement already satisfied: attrs>=22.2.0 in /usr/local/lib/python3.11/dist-packages (from jsonschema>=3.0->altair<6,>=4.0->streamlit) (25.3.0)\n",
            "Requirement already satisfied: jsonschema-specifications>=2023.03.6 in /usr/local/lib/python3.11/dist-packages (from jsonschema>=3.0->altair<6,>=4.0->streamlit) (2025.4.1)\n",
            "Requirement already satisfied: referencing>=0.28.4 in /usr/local/lib/python3.11/dist-packages (from jsonschema>=3.0->altair<6,>=4.0->streamlit) (0.36.2)\n",
            "Requirement already satisfied: rpds-py>=0.7.1 in /usr/local/lib/python3.11/dist-packages (from jsonschema>=3.0->altair<6,>=4.0->streamlit) (0.25.1)\n",
            "Requirement already satisfied: six>=1.5 in /usr/local/lib/python3.11/dist-packages (from python-dateutil>=2.8.2->pandas<3,>=1.4.0->streamlit) (1.17.0)\n",
            "Downloading streamlit-1.45.1-py3-none-any.whl (9.9 MB)\n",
            "\u001b[2K   \u001b[90m━━━━━━━━━━━━━━━━━━━━━━━━━━━━━━━━━━━━━━━━\u001b[0m \u001b[32m9.9/9.9 MB\u001b[0m \u001b[31m64.2 MB/s\u001b[0m eta \u001b[36m0:00:00\u001b[0m\n",
            "\u001b[?25hDownloading pydeck-0.9.1-py2.py3-none-any.whl (6.9 MB)\n",
            "\u001b[2K   \u001b[90m━━━━━━━━━━━━━━━━━━━━━━━━━━━━━━━━━━━━━━━━\u001b[0m \u001b[32m6.9/6.9 MB\u001b[0m \u001b[31m103.1 MB/s\u001b[0m eta \u001b[36m0:00:00\u001b[0m\n",
            "\u001b[?25hDownloading watchdog-6.0.0-py3-none-manylinux2014_x86_64.whl (79 kB)\n",
            "\u001b[2K   \u001b[90m━━━━━━━━━━━━━━━━━━━━━━━━━━━━━━━━━━━━━━━━\u001b[0m \u001b[32m79.1/79.1 kB\u001b[0m \u001b[31m7.0 MB/s\u001b[0m eta \u001b[36m0:00:00\u001b[0m\n",
            "\u001b[?25hInstalling collected packages: watchdog, pydeck, streamlit\n",
            "Successfully installed pydeck-0.9.1 streamlit-1.45.1 watchdog-6.0.0\n"
          ]
        }
      ]
    },
    {
      "cell_type": "markdown",
      "metadata": {
        "id": "4f65f6a4"
      },
      "source": [
        "**Reasoning**:\n",
        "Now that `streamlit` and `joblib` are installed, attempt to load the saved model and LabelEncoder again.\n",
        "\n"
      ],
      "id": "4f65f6a4"
    },
    {
      "cell_type": "code",
      "metadata": {
        "colab": {
          "base_uri": "https://localhost:8080/"
        },
        "id": "0fef18da",
        "outputId": "ea5e7e35-1176-4e92-b232-5f992e28427c"
      },
      "source": [
        "import streamlit as st\n",
        "import joblib\n",
        "\n",
        "# Load the trained model\n",
        "clf = joblib.load('random_forest_model.joblib')\n",
        "\n",
        "# Load the fitted LabelEncoder\n",
        "le = joblib.load('label_encoder.joblib')\n",
        "\n",
        "st.title('Walmart Fraud Detection System')"
      ],
      "id": "0fef18da",
      "execution_count": null,
      "outputs": [
        {
          "output_type": "stream",
          "name": "stderr",
          "text": [
            "2025-06-16 08:27:09.086 Thread 'MainThread': missing ScriptRunContext! This warning can be ignored when running in bare mode.\n",
            "2025-06-16 08:27:09.087 Thread 'MainThread': missing ScriptRunContext! This warning can be ignored when running in bare mode.\n"
          ]
        },
        {
          "output_type": "execute_result",
          "data": {
            "text/plain": [
              "DeltaGenerator()"
            ]
          },
          "metadata": {},
          "execution_count": 28
        }
      ]
    },
    {
      "cell_type": "markdown",
      "metadata": {
        "id": "8d90e56c"
      },
      "source": [
        "## Design the streamlit interface\n",
        "\n",
        "### Subtask:\n",
        "Create input fields in the Streamlit app for users to enter transaction details (Amount, DeviceID, ReturnCount, CouponUsed).\n"
      ],
      "id": "8d90e56c"
    },
    {
      "cell_type": "markdown",
      "metadata": {
        "id": "9026ac44"
      },
      "source": [
        "**Reasoning**:\n",
        "Add input fields for the transaction details in the Streamlit app.\n",
        "\n"
      ],
      "id": "9026ac44"
    },
    {
      "cell_type": "code",
      "metadata": {
        "colab": {
          "base_uri": "https://localhost:8080/"
        },
        "id": "a9f29ce1",
        "outputId": "50329cd8-36e1-4ab9-afe1-68d9417b4096"
      },
      "source": [
        "st.header('Enter Transaction Details:')\n",
        "\n",
        "amount = st.number_input('Amount', min_value=0.0, value=100.0)\n",
        "device_id = st.selectbox('Device Type', ['mobile', 'desktop', 'tablet'])\n",
        "return_count = st.number_input('Return Count', min_value=0, value=0, step=1)\n",
        "coupon_used = st.radio('Coupon Used', [0, 1], format_func=lambda x: 'Yes' if x == 1 else 'No')"
      ],
      "id": "a9f29ce1",
      "execution_count": null,
      "outputs": [
        {
          "output_type": "stream",
          "name": "stderr",
          "text": [
            "2025-06-16 08:27:12.456 Thread 'MainThread': missing ScriptRunContext! This warning can be ignored when running in bare mode.\n",
            "2025-06-16 08:27:12.457 Thread 'MainThread': missing ScriptRunContext! This warning can be ignored when running in bare mode.\n",
            "2025-06-16 08:27:12.458 Thread 'MainThread': missing ScriptRunContext! This warning can be ignored when running in bare mode.\n",
            "2025-06-16 08:27:12.459 Thread 'MainThread': missing ScriptRunContext! This warning can be ignored when running in bare mode.\n",
            "2025-06-16 08:27:12.460 Thread 'MainThread': missing ScriptRunContext! This warning can be ignored when running in bare mode.\n",
            "2025-06-16 08:27:12.463 Thread 'MainThread': missing ScriptRunContext! This warning can be ignored when running in bare mode.\n",
            "2025-06-16 08:27:12.465 Thread 'MainThread': missing ScriptRunContext! This warning can be ignored when running in bare mode.\n",
            "2025-06-16 08:27:12.466 Thread 'MainThread': missing ScriptRunContext! This warning can be ignored when running in bare mode.\n",
            "2025-06-16 08:27:12.469 Thread 'MainThread': missing ScriptRunContext! This warning can be ignored when running in bare mode.\n",
            "2025-06-16 08:27:12.470 Thread 'MainThread': missing ScriptRunContext! This warning can be ignored when running in bare mode.\n",
            "2025-06-16 08:27:12.471 Thread 'MainThread': missing ScriptRunContext! This warning can be ignored when running in bare mode.\n",
            "2025-06-16 08:27:12.472 Thread 'MainThread': missing ScriptRunContext! This warning can be ignored when running in bare mode.\n",
            "2025-06-16 08:27:12.473 Thread 'MainThread': missing ScriptRunContext! This warning can be ignored when running in bare mode.\n",
            "2025-06-16 08:27:12.474 Thread 'MainThread': missing ScriptRunContext! This warning can be ignored when running in bare mode.\n",
            "2025-06-16 08:27:12.476 Thread 'MainThread': missing ScriptRunContext! This warning can be ignored when running in bare mode.\n",
            "2025-06-16 08:27:12.477 Thread 'MainThread': missing ScriptRunContext! This warning can be ignored when running in bare mode.\n",
            "2025-06-16 08:27:12.478 Thread 'MainThread': missing ScriptRunContext! This warning can be ignored when running in bare mode.\n",
            "2025-06-16 08:27:12.479 Thread 'MainThread': missing ScriptRunContext! This warning can be ignored when running in bare mode.\n",
            "2025-06-16 08:27:12.480 Thread 'MainThread': missing ScriptRunContext! This warning can be ignored when running in bare mode.\n",
            "2025-06-16 08:27:12.481 Thread 'MainThread': missing ScriptRunContext! This warning can be ignored when running in bare mode.\n",
            "2025-06-16 08:27:12.482 Thread 'MainThread': missing ScriptRunContext! This warning can be ignored when running in bare mode.\n",
            "2025-06-16 08:27:12.483 Thread 'MainThread': missing ScriptRunContext! This warning can be ignored when running in bare mode.\n",
            "2025-06-16 08:27:12.484 Thread 'MainThread': missing ScriptRunContext! This warning can be ignored when running in bare mode.\n",
            "2025-06-16 08:27:12.485 Thread 'MainThread': missing ScriptRunContext! This warning can be ignored when running in bare mode.\n",
            "2025-06-16 08:27:12.486 Thread 'MainThread': missing ScriptRunContext! This warning can be ignored when running in bare mode.\n",
            "2025-06-16 08:27:12.487 Thread 'MainThread': missing ScriptRunContext! This warning can be ignored when running in bare mode.\n"
          ]
        }
      ]
    },
    {
      "cell_type": "markdown",
      "metadata": {
        "id": "fdfb4bf0"
      },
      "source": [
        "## Implement prediction logic in the streamlit app\n",
        "\n",
        "### Subtask:\n",
        "Write code to take the user's input, preprocess it using the loaded `LabelEncoder`, and use the loaded model to predict whether the transaction is fraudulent.\n"
      ],
      "id": "fdfb4bf0"
    },
    {
      "cell_type": "markdown",
      "metadata": {
        "id": "84988afc"
      },
      "source": [
        "**Reasoning**:\n",
        "Write the code to create a button, collect user input, preprocess it, make a prediction using the loaded model, and display the result.\n",
        "\n"
      ],
      "id": "84988afc"
    },
    {
      "cell_type": "code",
      "metadata": {
        "colab": {
          "base_uri": "https://localhost:8080/"
        },
        "id": "3970b2fa",
        "outputId": "a8689f98-7b59-4588-cd08-b09fa7cb511a"
      },
      "source": [
        "if st.button('Predict Fraud'):\n",
        "    # Create a DataFrame from user input\n",
        "    input_data = pd.DataFrame({\n",
        "        'Amount': [amount],\n",
        "        'DeviceID': [device_id],\n",
        "        'ReturnCount': [return_count],\n",
        "        'CouponUsed': [coupon_used]\n",
        "    })\n",
        "\n",
        "    # Preprocess the 'DeviceID'\n",
        "    input_data['DeviceID'] = le.transform(input_data['DeviceID'])\n",
        "\n",
        "    # Make prediction\n",
        "    prediction_proba = clf.predict_proba(input_data)\n",
        "    fraud_probability = prediction_proba[0][1] # Probability of class 1 (fraud)\n",
        "\n",
        "    # Determine the predicted class\n",
        "    predicted_class = 1 if fraud_probability >= 0.5 else 0\n",
        "\n",
        "    st.subheader('Prediction Result:')\n",
        "    if predicted_class == 1:\n",
        "        st.error(f'Fraudulent Transaction Predicted! Probability: {fraud_probability:.2f}')\n",
        "    else:\n",
        "        st.success(f'Transaction is Likely Not Fraudulent. Probability: {fraud_probability:.2f}')"
      ],
      "id": "3970b2fa",
      "execution_count": null,
      "outputs": [
        {
          "output_type": "stream",
          "name": "stderr",
          "text": [
            "2025-06-16 08:27:16.186 Thread 'MainThread': missing ScriptRunContext! This warning can be ignored when running in bare mode.\n",
            "2025-06-16 08:27:16.188 Thread 'MainThread': missing ScriptRunContext! This warning can be ignored when running in bare mode.\n",
            "2025-06-16 08:27:16.189 Thread 'MainThread': missing ScriptRunContext! This warning can be ignored when running in bare mode.\n",
            "2025-06-16 08:27:16.190 Thread 'MainThread': missing ScriptRunContext! This warning can be ignored when running in bare mode.\n",
            "2025-06-16 08:27:16.191 Thread 'MainThread': missing ScriptRunContext! This warning can be ignored when running in bare mode.\n"
          ]
        }
      ]
    },
    {
      "source": [
        "pip install joblib"
      ],
      "cell_type": "code",
      "metadata": {
        "colab": {
          "base_uri": "https://localhost:8080/"
        },
        "id": "zYww33mM43WJ",
        "outputId": "de92d47b-62f4-47f4-8894-c4b70ce67879"
      },
      "id": "zYww33mM43WJ",
      "execution_count": 31,
      "outputs": [
        {
          "output_type": "stream",
          "name": "stdout",
          "text": [
            "Requirement already satisfied: joblib in /usr/local/lib/python3.11/dist-packages (1.5.1)\n"
          ]
        }
      ]
    },
    {
      "cell_type": "markdown",
      "metadata": {
        "id": "54cc60e3"
      },
      "source": [
        "## Add instructions to run the streamlit app\n",
        "\n",
        "### Subtask:\n",
        "Add instructions on how to save the Streamlit app file and run it from the terminal.\n"
      ],
      "id": "54cc60e3"
    },
    {
      "cell_type": "markdown",
      "metadata": {
        "id": "7cee43eb"
      },
      "source": [
        "**Reasoning**:\n",
        "Add a markdown cell with instructions on how to save and run the Streamlit application.\n",
        "\n"
      ],
      "id": "7cee43eb"
    },
    {
      "cell_type": "code",
      "metadata": {
        "colab": {
          "base_uri": "https://localhost:8080/"
        },
        "id": "fc7512c8",
        "outputId": "95ed06ab-c78b-478d-ffb7-af5b29bb00ac"
      },
      "source": [
        "%%writefile app.py\n",
        "import streamlit as st\n",
        "import joblib\n",
        "import pandas as pd\n",
        "\n",
        "# Load the trained model\n",
        "clf = joblib.load('random_forest_model.joblib')\n",
        "\n",
        "# Load the fitted LabelEncoder\n",
        "le = joblib.load('label_encoder.joblib')\n",
        "\n",
        "st.title('Walmart Fraud Detection System')\n",
        "\n",
        "st.header('Enter Transaction Details:')\n",
        "\n",
        "amount = st.number_input('Amount', min_value=0.0, value=100.0)\n",
        "device_id = st.selectbox('Device Type', ['mobile', 'desktop', 'tablet'])\n",
        "return_count = st.number_input('Return Count', min_value=0, value=0, step=1)\n",
        "coupon_used = st.radio('Coupon Used', [0, 1], format_func=lambda x: 'Yes' if x == 1 else 'No')\n",
        "\n",
        "if st.button('Predict Fraud'):\n",
        "    # Create a DataFrame from user input\n",
        "    input_data = pd.DataFrame({\n",
        "        'Amount': [amount],\n",
        "        'DeviceID': [device_id],\n",
        "        'ReturnCount': [return_count],\n",
        "        'CouponUsed': [coupon_used]\n",
        "    })\n",
        "\n",
        "    # Preprocess the 'DeviceID'\n",
        "    input_data['DeviceID'] = le.transform(input_data['DeviceID'])\n",
        "\n",
        "    # Make prediction\n",
        "    prediction_proba = clf.predict_proba(input_data)\n",
        "    fraud_probability = prediction_proba[0][1] # Probability of class 1 (fraud)\n",
        "\n",
        "    # Determine the predicted class\n",
        "    predicted_class = 1 if fraud_probability >= 0.5 else 0\n",
        "\n",
        "    st.subheader('Prediction Result:')\n",
        "    if predicted_class == 1:\n",
        "        st.error(f'Fraudulent Transaction Predicted! Probability: {fraud_probability:.2f}')\n",
        "    else:\n",
        "        st.success(f'Transaction is Likely Not Fraudulent. Probability: {fraud_probability:.2f}')"
      ],
      "id": "fc7512c8",
      "execution_count": null,
      "outputs": [
        {
          "output_type": "stream",
          "name": "stdout",
          "text": [
            "Overwriting app.py\n"
          ]
        }
      ]
    },
    {
      "cell_type": "markdown",
      "metadata": {
        "id": "36c0785b"
      },
      "source": [
        "**Reasoning**:\n",
        "Add a markdown cell to provide instructions on how to run the Streamlit application.\n",
        "\n"
      ],
      "id": "36c0785b"
    },
    {
      "cell_type": "code",
      "metadata": {
        "colab": {
          "base_uri": "https://localhost:8080/",
          "height": 217
        },
        "id": "5aed164e",
        "outputId": "d70ff762-f80a-41d2-da1b-d685525e61a4"
      },
      "source": [
        "%%markdown\n",
        "## How to Run the Streamlit Application\n",
        "\n",
        "1.  **Save the code:** Ensure the Python code for the Streamlit application is saved in a file named `app.py`. If you used the `%%writefile app.py` command above, this step is already done.\n",
        "2.  **Open a terminal or command prompt:** Navigate to the directory where you saved the `app.py` file.\n",
        "3.  **Run the application:** Execute the following command in the terminal:\n",
        "\n",
        "    ```bash\n",
        "    streamlit run app.py\n",
        "    ```\n",
        "\n",
        "A new tab will open in your web browser with the Streamlit application running."
      ],
      "id": "5aed164e",
      "execution_count": null,
      "outputs": [
        {
          "output_type": "display_data",
          "data": {
            "text/plain": [
              "<IPython.core.display.Markdown object>"
            ],
            "text/markdown": "## How to Run the Streamlit Application\n\n1.  **Save the code:** Ensure the Python code for the Streamlit application is saved in a file named `app.py`. If you used the `%%writefile app.py` command above, this step is already done.\n2.  **Open a terminal or command prompt:** Navigate to the directory where you saved the `app.py` file.\n3.  **Run the application:** Execute the following command in the terminal:\n\n    ```bash\n    streamlit run app.py\n    ```\n\nA new tab will open in your web browser with the Streamlit application running.\n"
          },
          "metadata": {}
        }
      ]
    },
    {
      "cell_type": "markdown",
      "metadata": {
        "id": "2d5326c6"
      },
      "source": [
        "## Summary:\n",
        "\n",
        "### Data Analysis Key Findings\n",
        "\n",
        "*   The trained `RandomForestClassifier` model and the fitted `LabelEncoder` were successfully saved to `random_forest_model.joblib` and `label_encoder.joblib` files using `joblib`.\n",
        "*   A Streamlit application file (`app.py`) was created to host the fraud detection system.\n",
        "*   The saved model and LabelEncoder were successfully loaded into the Streamlit application.\n",
        "*   The Streamlit interface was designed with input fields for Amount, Device ID, Return Count, and Coupon Used.\n",
        "*   The application includes logic to preprocess user input, predict the probability of fraud using the loaded model, and display the prediction result and probability.\n",
        "*   Instructions were provided on how to save the `app.py` file and run the Streamlit application from the terminal using `streamlit run app.py`.\n",
        "\n",
        "### Insights or Next Steps\n",
        "\n",
        "*   The Streamlit application provides a user-friendly interface for real-time fraud prediction based on the trained model.\n",
        "*   Consider adding input validation to ensure the user provides appropriate values for each field in the Streamlit app.\n"
      ],
      "id": "2d5326c6"
    }
  ],
  "metadata": {
    "kernelspec": {
      "display_name": "Python 3",
      "language": "python",
      "name": "python3"
    },
    "language_info": {
      "name": "python",
      "version": ""
    },
    "colab": {
      "provenance": []
    }
  },
  "nbformat": 4,
  "nbformat_minor": 5
}